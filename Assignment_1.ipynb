{
 "cells": [
  {
   "cell_type": "markdown",
   "id": "d419d00e-049c-40d8-8685-b1ed49f4af4a",
   "metadata": {},
   "source": [
    "## Question-1"
   ]
  },
  {
   "cell_type": "code",
   "execution_count": 2,
   "id": "9fcb9305-10c0-4a81-bb14-1d5f54bd53ac",
   "metadata": {},
   "outputs": [
    {
     "name": "stdout",
     "output_type": "stream",
     "text": [
      "I\n",
      "n\n"
     ]
    }
   ],
   "source": [
    "s=\"I am learning python\" \n",
    "print(s[0])\n",
    "print(s[-1])"
   ]
  },
  {
   "cell_type": "code",
   "execution_count": 3,
   "id": "8ce2d00b-f53d-47a2-bda6-4beeb695e36e",
   "metadata": {},
   "outputs": [
    {
     "name": "stdout",
     "output_type": "stream",
     "text": [
      "i AM LEARNING PYTHON\n"
     ]
    }
   ],
   "source": [
    "print(s.swapcase())"
   ]
  },
  {
   "cell_type": "markdown",
   "id": "747ff1a7-e316-43de-81df-b3a72b170d4f",
   "metadata": {},
   "source": [
    "## Question-2"
   ]
  },
  {
   "cell_type": "code",
   "execution_count": 4,
   "id": "1ab793eb-ba0f-4d11-8952-236e8ce58663",
   "metadata": {},
   "outputs": [
    {
     "name": "stdout",
     "output_type": "stream",
     "text": [
      "Hello world\n",
      "Hello World\n",
      "hello python\n"
     ]
    }
   ],
   "source": [
    "s=\"hello world\"\n",
    "print(s.capitalize())\n",
    "print(s.title())\n",
    "print(s.replace(\"world\",\"python\"))"
   ]
  },
  {
   "cell_type": "markdown",
   "id": "d531adaf-700e-4b61-8e0a-d9d0695fef95",
   "metadata": {},
   "source": [
    "## Question-3"
   ]
  },
  {
   "cell_type": "code",
   "execution_count": 6,
   "id": "c5d4ec70-99b0-412d-8976-ef4de1984e22",
   "metadata": {},
   "outputs": [
    {
     "name": "stdout",
     "output_type": "stream",
     "text": [
      "2\n",
      "5\n",
      "1\n",
      "3\n",
      "5\n",
      "6\n",
      "5\n",
      "2\n"
     ]
    }
   ],
   "source": [
    "s=\"I am learning datascience in aimnxt technologies\"\n",
    "print(s.count(\"l\"))\n",
    "print(s.count(\"e\"))\n",
    "print(s.count(\"r\"))\n",
    "print(s.count(\"t\"))\n",
    "print(s.count(\"a\"))\n",
    "print(s.count(\"n\")) \n",
    "print(s.count(\"i\"))\n",
    "print(s.count(\"s\"))"
   ]
  },
  {
   "cell_type": "markdown",
   "id": "0176ee4f-af2e-4db5-ab1c-47994676f080",
   "metadata": {},
   "source": [
    "## Question-4"
   ]
  },
  {
   "cell_type": "code",
   "execution_count": 7,
   "id": "cecdf9e8-31c5-45f5-a18a-37a9e62dd635",
   "metadata": {},
   "outputs": [
    {
     "name": "stdout",
     "output_type": "stream",
     "text": [
      "11\n",
      "BDFHJ\n",
      "ABCDE\n",
      "EDCBA\n",
      "DH\n"
     ]
    }
   ],
   "source": [
    "s=\"ABCDEFGHIJK\"\n",
    "print(len(s))\n",
    "print(s[1:10:2])\n",
    "print(s[0:5])\n",
    "print(\"\".join(reversed(s[0:5])))\n",
    "print(s[3:11:4]) "
   ]
  },
  {
   "cell_type": "markdown",
   "id": "27555242-adbc-4373-bd48-00dfc36af49d",
   "metadata": {},
   "source": [
    "## Question-5"
   ]
  },
  {
   "cell_type": "code",
   "execution_count": 8,
   "id": "2ec6e926-642b-408c-a019-b6277484c5c7",
   "metadata": {},
   "outputs": [
    {
     "name": "stdout",
     "output_type": "stream",
     "text": [
      "PyTHon PrACtice\n",
      "PyTHon PrACtice\n",
      "Python Practice\n"
     ]
    }
   ],
   "source": [
    "s=\" PyTHon PrACtice\"\n",
    "print(s.strip())\n",
    "s=s.lstrip()\n",
    "print(s)\n",
    "print(s.title())"
   ]
  },
  {
   "cell_type": "markdown",
   "id": "f06c5dd0-dc0b-4429-bf9b-1479ca635059",
   "metadata": {},
   "source": [
    "## Question-6"
   ]
  },
  {
   "cell_type": "code",
   "execution_count": 9,
   "id": "03ca9292-7f66-42ba-83d0-7b35b3c05bcd",
   "metadata": {},
   "outputs": [
    {
     "name": "stdout",
     "output_type": "stream",
     "text": [
      "aimnxt.\n",
      "True\n",
      "False\n"
     ]
    }
   ],
   "source": [
    "s=\"aimnxt.\"\n",
    "print(s)\n",
    "print(s.endswith(\".\"))\n",
    "print(s.endswith(\"?\"))"
   ]
  },
  {
   "cell_type": "markdown",
   "id": "8c2a3cd0-fe21-4c90-85e7-9872c24f7f2b",
   "metadata": {},
   "source": [
    "## Question-7"
   ]
  },
  {
   "cell_type": "code",
   "execution_count": 10,
   "id": "7e81ee8d-057d-47ac-891d-368444ffdfe5",
   "metadata": {},
   "outputs": [
    {
     "name": "stdout",
     "output_type": "stream",
     "text": [
      "powerful\n",
      " is powerful and \n"
     ]
    }
   ],
   "source": [
    "#question7\n",
    "s=\"Python is powerful and fast.\"\n",
    "print(s[10:18])\n",
    "print(s[6:23])\n"
   ]
  },
  {
   "cell_type": "markdown",
   "id": "d45f008e-6294-460b-a824-40149d0e5bdb",
   "metadata": {},
   "source": [
    "## Question-8"
   ]
  },
  {
   "cell_type": "code",
   "execution_count": 11,
   "id": "f64d2fd4-8dd5-473a-96d1-ec54a4b30fb7",
   "metadata": {},
   "outputs": [
    {
     "name": "stdout",
     "output_type": "stream",
     "text": [
      "10\n",
      "Hello\n",
      "World\n",
      "Hlool\n"
     ]
    }
   ],
   "source": [
    "s=\"HelloWorld\"\n",
    "print(len(s))\n",
    "print(s[0:5])\n",
    "print(s[-5:])\n",
    "print(s[0:11:2])"
   ]
  },
  {
   "cell_type": "markdown",
   "id": "980f85c7-41e9-467d-907c-a32cbcca4fea",
   "metadata": {},
   "source": [
    "## Question-9"
   ]
  },
  {
   "cell_type": "code",
   "execution_count": 12,
   "id": "9ed35ac2-9f64-4e34-85b2-8d3bd61b5bb7",
   "metadata": {},
   "outputs": [
    {
     "name": "stdout",
     "output_type": "stream",
     "text": [
      "cde\n",
      "bdfh\n",
      "jihgfedcba\n"
     ]
    }
   ],
   "source": [
    "s=\"abcdefghij\"\n",
    "print(s[2:5])\n",
    "print(s[1:8:2])\n",
    "print(s[::-1])"
   ]
  },
  {
   "cell_type": "markdown",
   "id": "71c5c97b-a713-4e3e-856a-605af950112b",
   "metadata": {},
   "source": [
    "## Question-10"
   ]
  },
  {
   "cell_type": "code",
   "execution_count": 14,
   "id": "d2796e8b-e061-4e3d-a740-37e1833a166d",
   "metadata": {},
   "outputs": [
    {
     "name": "stdout",
     "output_type": "stream",
     "text": [
      "19\n",
      "9\n",
      "n\n",
      "ec\n"
     ]
    }
   ],
   "source": [
    "v1=\"aimnxt_technologies\"\n",
    "print(len(v1))\n",
    "print(len(v1)//2)\n",
    "print(v1[3])\n",
    "v2=\"aimnxt_technologies\"\n",
    "mid=(len(v2)//2)\n",
    "print(v2[mid-1:mid+1])"
   ]
  },
  {
   "cell_type": "markdown",
   "id": "ca1d6871-e929-4289-8ee8-b79b585f4b88",
   "metadata": {},
   "source": [
    "## Question-11"
   ]
  },
  {
   "cell_type": "code",
   "execution_count": 16,
   "id": "77c7a122-82ee-4527-b0f1-c9511696e101",
   "metadata": {},
   "outputs": [
    {
     "name": "stdout",
     "output_type": "stream",
     "text": [
      "16\n",
      "Science\n",
      "FunIsScience\n",
      "FunIsScience\n"
     ]
    }
   ],
   "source": [
    "msg=\"DataScienceIsFun\"\n",
    "print(len(msg))\n",
    "print(msg[4:11])\n",
    "print(msg[-3:]+msg[-5:-3]+msg[4:11])\n",
    "print(msg[13:]+msg[11:13]+msg[4:11])"
   ]
  },
  {
   "cell_type": "markdown",
   "id": "a6f54d68-a523-4506-8b04-bd2d71e666da",
   "metadata": {},
   "source": [
    "## Question-12"
   ]
  },
  {
   "cell_type": "code",
   "execution_count": 17,
   "id": "c7d57871-b9e7-4e55-8330-a4289848c839",
   "metadata": {},
   "outputs": [
    {
     "name": "stdout",
     "output_type": "stream",
     "text": [
      "ABCDEXYZ\n",
      "12345\n",
      "54321\n"
     ]
    }
   ],
   "source": [
    "s=\"ABCDE12345XYZ\"\n",
    "print(''.join(c for c in s if c.isalpha()))\n",
    "s=(''.join(c for c in s if c.isdigit()))\n",
    "print(s)\n",
    "print(s[::-1])"
   ]
  },
  {
   "cell_type": "markdown",
   "id": "68878382-dd6e-46e7-b64c-f35859667748",
   "metadata": {},
   "source": [
    "## Question-13"
   ]
  },
  {
   "cell_type": "code",
   "execution_count": 18,
   "id": "a36a532b-c89b-478d-87c8-9121f1576eca",
   "metadata": {},
   "outputs": [
    {
     "name": "stdout",
     "output_type": "stream",
     "text": [
      "love programming\n"
     ]
    }
   ],
   "source": [
    "s=\"I love programming in Python\"\n",
    "print(s[2:18])"
   ]
  },
  {
   "cell_type": "code",
   "execution_count": null,
   "id": "46787aa1-25fc-464b-ae48-5ffb1a4d8c8f",
   "metadata": {},
   "outputs": [],
   "source": []
  }
 ],
 "metadata": {
  "kernelspec": {
   "display_name": "Python [conda env:base] *",
   "language": "python",
   "name": "conda-base-py"
  },
  "language_info": {
   "codemirror_mode": {
    "name": "ipython",
    "version": 3
   },
   "file_extension": ".py",
   "mimetype": "text/x-python",
   "name": "python",
   "nbconvert_exporter": "python",
   "pygments_lexer": "ipython3",
   "version": "3.13.5"
  }
 },
 "nbformat": 4,
 "nbformat_minor": 5
}
